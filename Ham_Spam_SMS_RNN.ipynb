{
  "nbformat": 4,
  "nbformat_minor": 0,
  "metadata": {
    "colab": {
      "name": "Ham/Spam SMS RNN",
      "provenance": [],
      "collapsed_sections": []
    },
    "kernelspec": {
      "name": "python3",
      "display_name": "Python 3"
    },
    "language_info": {
      "name": "python"
    }
  },
  "cells": [
    {
      "cell_type": "code",
      "metadata": {
        "id": "rciXMf9YGZRz"
      },
      "source": [
        "import tensorflow as tf\n",
        "import pandas as pd\n",
        "import numpy as np\n",
        "import seaborn as sns\n",
        "\n",
        "from sklearn import metrics\n",
        "\n",
        "from matplotlib import pyplot as plt\n",
        "\n",
        "from tensorflow import keras\n",
        "from tensorflow.keras.models import Sequential\n",
        "from tensorflow.keras.layers import Activation, Dense, Dropout, Embedding, LSTM, Bidirectional\n",
        "from tensorflow.keras.preprocessing.text import Tokenizer\n",
        "from tensorflow.keras.preprocessing.sequence import pad_sequences\n",
        "\n",
        "from sklearn.model_selection import train_test_split\n",
        "from sklearn.metrics import confusion_matrix\n",
        "from sklearn.metrics import precision_score\n",
        "from sklearn.metrics import recall_score\n",
        "from sklearn.metrics import roc_auc_score\n",
        "from sklearn.metrics import RocCurveDisplay\n",
        "from sklearn.metrics import PrecisionRecallDisplay\n"
      ],
      "execution_count": null,
      "outputs": []
    },
    {
      "cell_type": "code",
      "metadata": {
        "id": "WHHzt87KWxdj",
        "colab": {
          "base_uri": "https://localhost:8080/"
        },
        "outputId": "f0341937-26d3-4368-8dc3-8f8af10899fc"
      },
      "source": [
        "# Removes excess columns\n",
        "cols_to_use = [0, 1]\n",
        "df = pd.read_csv('spam.csv', usecols= cols_to_use, encoding='latin-1')\n",
        "\n",
        "# Renames columns to be more human readable\n",
        "df.rename(columns={\"v1\": \"Labels\", \"v2\": \"Messages\"}, inplace=True)\n",
        "\n",
        "# Replaces strings \"ham\" and \"spam\" with 0 and 1 respectively\n",
        "df.loc[:, \"Labels\"].replace([\"ham\", \"spam\"], [0, 1], inplace=True)\n",
        "\n",
        "# Splits for training, validation and testing set\n",
        "training_set, testing_set = train_test_split(df, test_size = 0.3)\n",
        "val_set, testing_set = train_test_split(testing_set, test_size = 0.5)\n",
        "\n",
        "# Tokenize using Out of Vocabulary Tokens\n",
        "tokenizer = Tokenizer(num_words = 1000, oov_token = \"<OOV>\")\n",
        "tokenizer.fit_on_texts(list(training_set[\"Messages\"]))\n",
        "word_index = tokenizer.word_index\n",
        "\n",
        "# Pads the x values of both the training and testing set using the Messages column\n",
        "x_train = pad_sequences(tokenizer.texts_to_sequences(list(training_set[\"Messages\"])), padding='post', maxlen=150)\n",
        "x_test = pad_sequences(tokenizer.texts_to_sequences(list(testing_set[\"Messages\"])), padding='post', maxlen=150)\n",
        "x_val = pad_sequences(tokenizer.texts_to_sequences(list(val_set[\"Messages\"])), padding='post', maxlen=150)\n",
        "\n",
        "# Creates arrays for both training and testing using the Labels colummn\n",
        "y_train = np.array(training_set[\"Labels\"])\n",
        "y_test = np.array(testing_set[\"Labels\"])\n",
        "y_val = np.array(val_set[\"Labels\"])\n",
        "\n",
        "x_train.shape, y_train.shape, x_test.shape, y_test.shape, x_val.shape, y_val.shape"
      ],
      "execution_count": null,
      "outputs": [
        {
          "output_type": "execute_result",
          "data": {
            "text/plain": [
              "((3900, 150), (3900,), (836, 150), (836,), (836, 150), (836,))"
            ]
          },
          "metadata": {},
          "execution_count": 2
        }
      ]
    },
    {
      "cell_type": "code",
      "metadata": {
        "id": "wdheCTiW0Xty"
      },
      "source": [
        "def build_rnn():\n",
        "  model = Sequential()\n",
        "  # Embedding for model is in line with most recently published paper on the topic\n",
        "  model.add(Embedding(input_dim=1000, output_dim=50, input_length=150))\n",
        "\n",
        "  model.add(Bidirectional(LSTM(64)))\n",
        "  # Dropout of 0.5 is the default\n",
        "  model.add(Dropout(0.5))\n",
        "  \n",
        "  # Sigmoid is used since it is a binary classification problem\n",
        "  model.add(Dense(1, activation='sigmoid'))\n",
        "\n",
        "  return model"
      ],
      "execution_count": null,
      "outputs": []
    },
    {
      "cell_type": "code",
      "metadata": {
        "id": "_QzGEG0ACpfG",
        "colab": {
          "base_uri": "https://localhost:8080/"
        },
        "outputId": "f73b833e-5aaa-4737-a487-742b1233db21"
      },
      "source": [
        "rnn = build_rnn()\n",
        "rnn.summary()"
      ],
      "execution_count": null,
      "outputs": [
        {
          "output_type": "stream",
          "name": "stdout",
          "text": [
            "Model: \"sequential_8\"\n",
            "_________________________________________________________________\n",
            " Layer (type)                Output Shape              Param #   \n",
            "=================================================================\n",
            " embedding_8 (Embedding)     (None, 150, 50)           50000     \n",
            "                                                                 \n",
            " bidirectional_8 (Bidirectio  (None, 128)              58880     \n",
            " nal)                                                            \n",
            "                                                                 \n",
            " dropout_8 (Dropout)         (None, 128)               0         \n",
            "                                                                 \n",
            " dense_8 (Dense)             (None, 1)                 129       \n",
            "                                                                 \n",
            "=================================================================\n",
            "Total params: 109,009\n",
            "Trainable params: 109,009\n",
            "Non-trainable params: 0\n",
            "_________________________________________________________________\n"
          ]
        }
      ]
    },
    {
      "cell_type": "code",
      "metadata": {
        "id": "CObBj4aesiGa",
        "colab": {
          "base_uri": "https://localhost:8080/"
        },
        "outputId": "7569381c-d818-4399-b589-bcf89dd7bfa3"
      },
      "source": [
        "# Binary crossentropy since it is a binary problem, and RMSprop worked best of all available optimizers\n",
        "rnn.compile(\n",
        "    loss=\"binary_crossentropy\", optimizer=\"rmsprop\", metrics=[\"acc\"]\n",
        ")\n",
        "\n",
        "history = rnn.fit(x_train, y_train, batch_size=128, epochs=5, validation_data=(x_val, y_val), shuffle=True)"
      ],
      "execution_count": null,
      "outputs": [
        {
          "output_type": "stream",
          "name": "stdout",
          "text": [
            "Epoch 1/5\n",
            "31/31 [==============================] - 16s 369ms/step - loss: 0.3653 - acc: 0.8464 - val_loss: 0.2833 - val_acc: 0.9306\n",
            "Epoch 2/5\n",
            "31/31 [==============================] - 10s 325ms/step - loss: 0.1657 - acc: 0.9487 - val_loss: 0.1162 - val_acc: 0.9701\n",
            "Epoch 3/5\n",
            "31/31 [==============================] - 10s 325ms/step - loss: 0.0836 - acc: 0.9787 - val_loss: 0.0657 - val_acc: 0.9809\n",
            "Epoch 4/5\n",
            "31/31 [==============================] - 10s 322ms/step - loss: 0.0554 - acc: 0.9846 - val_loss: 0.0621 - val_acc: 0.9821\n",
            "Epoch 5/5\n",
            "31/31 [==============================] - 10s 319ms/step - loss: 0.0440 - acc: 0.9879 - val_loss: 0.0592 - val_acc: 0.9856\n"
          ]
        }
      ]
    },
    {
      "cell_type": "code",
      "metadata": {
        "colab": {
          "base_uri": "https://localhost:8080/",
          "height": 295
        },
        "id": "upAfdLBGDPoU",
        "outputId": "d01fdc72-c02c-4ae7-a539-abda5e4c5782"
      },
      "source": [
        "plt.plot(history.history['acc'])\n",
        "plt.plot(history.history['val_acc'])\n",
        "plt.title('model accuracy')\n",
        "plt.ylabel('accuracy')\n",
        "plt.xlabel('epoch')\n",
        "plt.legend(['train', 'val'], loc='upper left')\n",
        "plt.show()"
      ],
      "execution_count": null,
      "outputs": [
        {
          "output_type": "display_data",
          "data": {
            "image/png": "[encoded data removed]",
            "text/plain": [
              "<Figure size 432x288 with 1 Axes>"
            ]
          },
          "metadata": {
            "needs_background": "light"
          }
        }
      ]
    },
    {
      "cell_type": "code",
      "metadata": {
        "colab": {
          "base_uri": "https://localhost:8080/",
          "height": 295
        },
        "id": "ZrwKfahp1hnD",
        "outputId": "7c11f0f5-949a-4d35-8385-ff16c276b5cb"
      },
      "source": [
        "plt.plot(history.history['loss'])\n",
        "plt.plot(history.history['val_loss'])\n",
        "plt.title('model loss')\n",
        "plt.ylabel('loss')\n",
        "plt.xlabel('epoch')\n",
        "plt.legend(['train', 'test'], loc='upper left')\n",
        "plt.show()"
      ],
      "execution_count": null,
      "outputs": [
        {
          "output_type": "display_data",
          "data": {
            "image/png": "[encoded data removed]",
            "text/plain": [
              "<Figure size 432x288 with 1 Axes>"
            ]
          },
          "metadata": {
            "needs_background": "light"
          }
        }
      ]
    },
    {
      "cell_type": "code",
      "metadata": {
        "colab": {
          "base_uri": "https://localhost:8080/"
        },
        "id": "hCyGvPlLqhHy",
        "outputId": "edb5bf6f-091e-406e-d704-118c0d42a223"
      },
      "source": [
        "score = rnn.evaluate(x_test, y_test, verbose = 0)\n",
        "\n",
        "\n",
        "print(\"Test loss:\", score[0], \"\\nTest accuracy:\", score[1])\n",
        "\n",
        "pred = rnn.predict(x_test)\n",
        "\n",
        "# Properly assign binary values opposed to float values\n",
        "pred[pred <= 0.5] = 0.\n",
        "pred[pred > 0.5] = 1.\n",
        "\n",
        "matrix = confusion_matrix(y_test, pred)\n",
        "\n",
        "recall = recall_score(y_test, pred)\n",
        "prec = precision_score(y_test, pred)\n",
        "auc = roc_auc_score(y_test, pred)\n",
        "\n",
        "print(\"Recall:\", recall, \"\\nPrecision:\", prec, \"\\nAUC:\", auc)\n",
        "\n",
        "matrix"
      ],
      "execution_count": null,
      "outputs": [
        {
          "output_type": "stream",
          "name": "stdout",
          "text": [
            "Test loss: 0.048081740736961365 \n",
            "Test accuracy: 0.9844497442245483\n",
            "Recall: 0.9035087719298246 \n",
            "Precision: 0.9809523809523809 \n",
            "AUC: 0.9503693444136657\n"
          ]
        },
        {
          "output_type": "execute_result",
          "data": {
            "text/plain": [
              "array([[720,   2],\n",
              "       [ 11, 103]])"
            ]
          },
          "metadata": {},
          "execution_count": 64
        }
      ]
    },
    {
      "cell_type": "code",
      "source": [
        "fpr, tpr, thresholds = metrics.roc_curve(y_test, pred)\n",
        "roc_auc = metrics.auc(fpr, tpr)\n",
        "display = metrics.RocCurveDisplay(fpr=fpr, tpr=tpr, roc_auc=roc_auc,estimator_name='BiLSTM emstimator')\n",
        "display.plot()"
      ],
      "metadata": {
        "colab": {
          "base_uri": "https://localhost:8080/",
          "height": 296
        },
        "id": "7Pgz51a8Rjg2",
        "outputId": "50f4c369-73c4-4fe5-d4f2-d1307e32dfba"
      },
      "execution_count": null,
      "outputs": [
        {
          "output_type": "execute_result",
          "data": {
            "text/plain": [
              "<sklearn.metrics._plot.roc_curve.RocCurveDisplay at 0x7f79acf27d10>"
            ]
          },
          "metadata": {},
          "execution_count": 65
        },
        {
          "output_type": "display_data",
          "data": {
            "image/png": "[encoded data removed]",
            "text/plain": [
              "<Figure size 432x288 with 1 Axes>"
            ]
          },
          "metadata": {
            "needs_background": "light"
          }
        }
      ]
    },
    {
      "cell_type": "code",
      "source": [
        "group_names = ['True Ham','False Spam','False Ham','True Spam']\n",
        "group_counts = [\"{0:0.0f}\".format(value) for value in\n",
        "                matrix.flatten()]\n",
        "group_percentages = [\"{0:.2%}\".format(value) for value in\n",
        "                     matrix.flatten()/np.sum(matrix)]\n",
        "labels = [f\"{v1}\\n{v2}\\n{v3}\" for v1, v2, v3 in\n",
        "          zip(group_names,group_counts,group_percentages)]\n",
        "labels = np.asarray(labels).reshape(2,2)\n",
        "sns.heatmap(matrix, annot=labels, fmt='', cmap='Blues')"
      ],
      "metadata": {
        "colab": {
          "base_uri": "https://localhost:8080/",
          "height": 282
        },
        "id": "M9O1PNpCXCYJ",
        "outputId": "c47caa17-7caf-4d4e-cede-f3097fc3420e"
      },
      "execution_count": null,
      "outputs": [
        {
          "output_type": "execute_result",
          "data": {
            "text/plain": [
              "<matplotlib.axes._subplots.AxesSubplot at 0x7f79ae92ed50>"
            ]
          },
          "metadata": {},
          "execution_count": 66
        },
        {
          "output_type": "display_data",
          "data": {
            "image/png": "[encoded data removed]",
            "text/plain": [
              "<Figure size 432x288 with 2 Axes>"
            ]
          },
          "metadata": {
            "needs_background": "light"
          }
        }
      ]
    }
  ]
}